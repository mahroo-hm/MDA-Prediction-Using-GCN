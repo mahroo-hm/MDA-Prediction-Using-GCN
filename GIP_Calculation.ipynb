{
 "cells": [
  {
   "cell_type": "code",
   "execution_count": null,
   "metadata": {},
   "outputs": [],
   "source": [
    "import time\n",
    "import numpy as np\n",
    "import csv\n",
    "from numpy import genfromtxt, interp\n",
    "import pandas as pd\n",
    "import random\n",
    "\n",
    "import matplotlib.pyplot as plt\n",
    "from sklearn import metrics\n",
    "from sklearn.model_selection import KFold\n",
    "from scipy import interpolate\n",
    "import os"
   ]
  },
  {
   "cell_type": "code",
   "execution_count": null,
   "metadata": {},
   "outputs": [],
   "source": [
    "data = genfromtxt('data/adjacency_matrix.csv', delimiter=',', skip_header = 0)\n",
    "\n",
    "def getGosiR(Asso_RNA_Dis):\n",
    "    nc = Asso_RNA_Dis.shape[0]\n",
    "    summ = 0\n",
    "    for i in range(nc):\n",
    "        x_norm = np.linalg.norm(Asso_RNA_Dis[i, :])\n",
    "        x_norm = np.square(x_norm)\n",
    "        summ = summ + x_norm\n",
    "    r = summ / nc\n",
    "    return r\n",
    "\n",
    "def GIP_kernel(Asso_RNA_Dis):\n",
    "    nc = Asso_RNA_Dis.shape[0]\n",
    "    matrix = np.zeros((nc, nc))\n",
    "    r = getGosiR(Asso_RNA_Dis)\n",
    "    for i in range(nc):\n",
    "        for j in range(nc):\n",
    "            temp_up = np.square(np.linalg.norm(Asso_RNA_Dis[i, :] - Asso_RNA_Dis[j, :]))\n",
    "            if r == 0:\n",
    "                matrix[i][j] = 0\n",
    "            elif i == j:\n",
    "                matrix[i][j] = 1\n",
    "            else:\n",
    "                matrix[i][j] = np.e ** (-temp_up / r)\n",
    "    return matrix\n",
    "\n",
    "GIP_sim = GIP_kernel(data)"
   ]
  }
 ],
 "metadata": {
  "language_info": {
   "name": "python"
  }
 },
 "nbformat": 4,
 "nbformat_minor": 2
}
