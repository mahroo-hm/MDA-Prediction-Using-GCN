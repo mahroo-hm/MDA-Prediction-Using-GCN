{
 "cells": [
  {
   "cell_type": "markdown",
   "metadata": {},
   "source": [
    "set the \"path\" variable to the directory of the downloaded databases."
   ]
  },
  {
   "cell_type": "code",
   "execution_count": null,
   "metadata": {},
   "outputs": [],
   "source": [
    "path = '???'"
   ]
  },
  {
   "cell_type": "code",
   "execution_count": 43,
   "metadata": {},
   "outputs": [],
   "source": [
    "from Bio import SeqIO\n",
    "import pandas as pd\n",
    "import re\n",
    "import numpy as np"
   ]
  },
  {
   "cell_type": "markdown",
   "metadata": {},
   "source": [
    "### HMDDv4"
   ]
  },
  {
   "cell_type": "code",
   "execution_count": 44,
   "metadata": {},
   "outputs": [],
   "source": [
    "\n",
    "def clean_data(text):\n",
    "    if pd.isna(text):\n",
    "      return text\n",
    "    if isinstance(text, str):\n",
    "      text = text.lower()  # convert to lowercase\n",
    "      text = re.sub(r'\\s+', ' ', text)  # delete additional spaces\n",
    "      text = text.strip('\"')\n",
    "      text = text.strip()\n",
    "      return text\n",
    "\n",
    "def process_data(df):\n",
    "    df = df.drop(df.index[0]).drop_duplicates().reset_index(drop=True)\n",
    "    df['Disease'] = df['Disease'].apply(clean_data)\n",
    "    df['miRNA'] = df['miRNA'].apply(clean_data)\n",
    "\n",
    "    print(df.head())\n",
    "    print('DF Length: ', len(df),  \n",
    "      ' - miRNA Count', len(df.iloc[:, 0].drop_duplicates()), \n",
    "      ' - Disease Count', len(df.iloc[:, 1].drop_duplicates()))\n",
    "    return df"
   ]
  },
  {
   "cell_type": "code",
   "execution_count": 45,
   "metadata": {},
   "outputs": [
    {
     "name": "stdout",
     "output_type": "stream",
     "text": [
      "         miRNA              Disease\n",
      "0  hsa-mir-9-2  wounds and injuries\n",
      "1  hsa-mir-9-3  wounds and injuries\n",
      "2   hsa-mir-21  wounds and injuries\n",
      "3  hsa-mir-483  wounds and injuries\n",
      "4   hsa-mir-31  wounds and injuries\n",
      "DF Length:  14549  - miRNA Count 917  - Disease Count 792\n"
     ]
    }
   ],
   "source": [
    "\n",
    "df_hmdd3 = pd.read_csv(f'{path}/HMDD/HMDD3.csv', sep=',', usecols=[0, 1], names=['miRNA', 'Disease'], encoding='latin-1')\n",
    "df_hmdd3 = process_data(df_hmdd3)\n",
    "\n",
    "#df_hmdd3.to_csv(path+'HMDD3.csv', index=False)"
   ]
  },
  {
   "cell_type": "code",
   "execution_count": 46,
   "metadata": {},
   "outputs": [
    {
     "name": "stdout",
     "output_type": "stream",
     "text": [
      "         miRNA                                 Disease\n",
      "0  hsa-mir-15a  leukemia, lymphocytic, chronic, b-cell\n",
      "1   hsa-mir-16  leukemia, lymphocytic, chronic, b-cell\n",
      "2  hsa-mir-143                         colon neoplasms\n",
      "3  hsa-mir-145                         colon neoplasms\n",
      "4  hsa-mir-223  leukemia, lymphocytic, chronic, b-cell\n",
      "DF Length:  18732  - miRNA Count 1206  - Disease Count 894\n"
     ]
    }
   ],
   "source": [
    "df_hmdd3 = pd.read_csv(f'{path}/HMDD/HMDD3.txt', sep='\\t', usecols=[1, 2], names=['miRNA', 'Disease'], encoding='latin-1')\n",
    "df_hmdd3 = process_data(df_hmdd3)\n",
    "\n",
    "df_hmdd3.to_csv(path+'HMDD3.csv', index=False)"
   ]
  },
  {
   "cell_type": "code",
   "execution_count": 69,
   "metadata": {},
   "outputs": [
    {
     "name": "stdout",
     "output_type": "stream",
     "text": [
      "          miRNA               Disease\n",
      "0    hsa-mir-40       liver cirrhosis\n",
      "1   hsa-mir-29b  zika virus infection\n",
      "2  hsa-mir-130b         wound healing\n",
      "3   hsa-mir-221     stomach neoplasms\n",
      "4   hsa-mir-497  pancreatic neoplasms\n",
      "DF Length:  31543  - miRNA Count 1890  - Disease Count 2349\n"
     ]
    }
   ],
   "source": [
    "df_hmdd4 = pd.read_csv(f'{path}/HMDD/HMDDv4 (The whole dataset of miRNA-disease association data).txt', sep='\\t', usecols=[2, 3], names=['miRNA', 'Disease'])\n",
    "df_hmdd4 = process_data(df_hmdd4)\n",
    "\n",
    "df_hmdd4.to_csv(path+'HMDD.csv', index=False)"
   ]
  },
  {
   "cell_type": "code",
   "execution_count": 48,
   "metadata": {},
   "outputs": [
    {
     "name": "stdout",
     "output_type": "stream",
     "text": [
      "              miRNA3                                 Disease        miRNA4\n",
      "0        hsa-mir-15a  leukemia, lymphocytic, chronic, b-cell  hsa-mir-16-1\n",
      "1        hsa-mir-15a  leukemia, lymphocytic, chronic, b-cell   hsa-mir-20a\n",
      "2        hsa-mir-15a  leukemia, lymphocytic, chronic, b-cell  hsa-mir-181c\n",
      "3        hsa-mir-15a  leukemia, lymphocytic, chronic, b-cell  hsa-mir-125b\n",
      "4        hsa-mir-15a  leukemia, lymphocytic, chronic, b-cell   hsa-mir-15b\n",
      "...              ...                                     ...           ...\n",
      "1465216   hsa-mir-7a                       parkinson disease   hsa-mir-19a\n",
      "1465217   hsa-mir-7a                       parkinson disease   hsa-mir-27b\n",
      "1465218   hsa-mir-7a                       parkinson disease   hsa-mir-105\n",
      "1465219   hsa-mir-7a                       parkinson disease   hsa-mir-599\n",
      "1465220   hsa-mir-7a                       parkinson disease   hsa-mir-26a\n",
      "\n",
      "[1461733 rows x 3 columns]\n"
     ]
    }
   ],
   "source": [
    "merged_df = pd.merge(df_hmdd3, df_hmdd4, on='Disease', suffixes=('3', '4'))\n",
    "\n",
    "different_rows = merged_df[merged_df['miRNA3'] != merged_df['miRNA4']]\n",
    "result = different_rows[['Disease', 'miRNA3', 'miRNA4']]\n",
    "\n",
    "print(different_rows)\n",
    "\n",
    "result.to_csv(path +'hmdd_v_diff2.csv', index=False)\n",
    "\n"
   ]
  },
  {
   "cell_type": "markdown",
   "metadata": {},
   "source": [
    "### miR2Disease"
   ]
  },
  {
   "cell_type": "code",
   "execution_count": 49,
   "metadata": {},
   "outputs": [
    {
     "name": "stdout",
     "output_type": "stream",
     "text": [
      "        miRNA                             Disease\n",
      "0  hsa-let-7g      hepatocellular carcinoma (hcc)\n",
      "1  hsa-let-7g                         lung cancer\n",
      "2  hsa-let-7g  non-small cell lung cancer (nsclc)\n",
      "3  hsa-let-7g                 ovarian cancer (oc)\n",
      "4  hsa-let-7g                   colorectal cancer\n",
      "DF Length:  2437  - miRNA Count 468  - Disease Count 149\n"
     ]
    }
   ],
   "source": [
    "df_mir2dis = pd.read_csv(f'{path}/miR2Disease/AllEntries.txt', sep='\\t', usecols=[0, 1], names=['miRNA', 'Disease'])\n",
    "df_mir2dis = process_data(df_mir2dis)\n",
    "\n",
    "df_mir2dis.to_csv(path+'miR2Disease.csv', index=False)"
   ]
  },
  {
   "cell_type": "markdown",
   "metadata": {},
   "source": [
    "### dbDEMC"
   ]
  },
  {
   "cell_type": "code",
   "execution_count": 50,
   "metadata": {},
   "outputs": [
    {
     "name": "stdout",
     "output_type": "stream",
     "text": [
      "           miRNA   Disease        miRBaseID\n",
      "0   hsa-mir-106a  lymphoma  hsa-miR-106a-5p\n",
      "1     hsa-let-7g  lymphoma    hsa-let-7g-5p\n",
      "2  hsa-mir-17-5p  lymphoma    hsa-miR-17-5p\n",
      "3     hsa-let-7f  lymphoma    hsa-let-7f-5p\n",
      "4     hsa-let-7a  lymphoma    hsa-let-7a-5p\n",
      "DF Length:  56655  - miRNA Count 4495  - Disease Count 40\n"
     ]
    }
   ],
   "source": [
    "df_db = pd.read_csv(f'{path}/dbDEMC/miRExpAll.txt', sep='\\t', usecols=[0, 1, 4], names=['miRNA', 'Disease',  'miRBaseID'])\n",
    "df_db['miRBaseID'], df_db['Disease'] = df_db['Disease'], df_db['miRBaseID']\n",
    "df_db = process_data(df_db)\n",
    "\n",
    "df_db.to_csv(path+'dbDEMC.csv', index=False)"
   ]
  },
  {
   "cell_type": "markdown",
   "metadata": {},
   "source": [
    "### miRCancer"
   ]
  },
  {
   "cell_type": "code",
   "execution_count": 52,
   "metadata": {},
   "outputs": [
    {
     "name": "stdout",
     "output_type": "stream",
     "text": [
      "        miRNA                 Disease\n",
      "0  hsa-let-7a  acute myeloid leukemia\n",
      "1  hsa-let-7a           breast cancer\n",
      "2  hsa-let-7a          chondrosarcoma\n",
      "3  hsa-let-7a            colon cancer\n",
      "4  hsa-let-7a       colorectal cancer\n",
      "DF Length:  5660  - miRNA Count 1034  - Disease Count 131\n"
     ]
    }
   ],
   "source": [
    "df_mircan = pd.read_csv(f'{path}/miRCancer/miRCancerJune2020.txt', sep='\\t', usecols=[0, 1], names=['miRNA', 'Disease'], encoding='latin-1')\n",
    "df_mircan = process_data(df_mircan)\n",
    "\n",
    "df_mircan.to_csv(path+'miRCancer.csv', index=False)"
   ]
  },
  {
   "cell_type": "code",
   "execution_count": 53,
   "metadata": {},
   "outputs": [
    {
     "name": "stdout",
     "output_type": "stream",
     "text": [
      "           miRNA   Disease\n",
      "0   hsa-mir-106a  lymphoma\n",
      "1     hsa-let-7g  lymphoma\n",
      "2  hsa-mir-17-5p  lymphoma\n",
      "3     hsa-let-7f  lymphoma\n",
      "4     hsa-let-7a  lymphoma\n",
      "82455\n"
     ]
    }
   ],
   "source": [
    "df_merged = pd.concat([df_db, df_mircan, df_mir2dis, df_hmdd]).drop_duplicates().reset_index(drop=True)\n",
    "df_merged = pd.DataFrame(df_merged, columns=['miRNA', 'Disease'])\n",
    "print(df_merged.head())\n",
    "print(len(df_merged))\n",
    "\n",
    "adjacency_matrix = pd.pivot_table(df_merged, \n",
    "                                  values=None, \n",
    "                                  index='miRNA', \n",
    "                                  columns='Disease', \n",
    "                                  aggfunc=lambda x: 1, \n",
    "                                  fill_value=0)\n",
    "adjacency_matrix.to_csv(path+'adjacency_matrix.csv', index=False)\n"
   ]
  },
  {
   "cell_type": "markdown",
   "metadata": {},
   "source": [
    "### Case study"
   ]
  },
  {
   "cell_type": "code",
   "execution_count": 191,
   "metadata": {},
   "outputs": [
    {
     "name": "stdout",
     "output_type": "stream",
     "text": [
      "['hsa-mir-21', 'hsa-mir-1908', 'hsa-mir-126', 'hsa-mir-18a', 'hsa-mir-147b', 'hsa-mir-23b', 'hsa-mir-155', 'hsa-mir-132', 'hsa-mir-335', 'hsa-mir-148b', 'hsa-mir-184', 'hsa-mir-221', 'hsa-mir-195', 'hsa-mir-31', 'hsa-mir-145', 'hsa-mir-193a', 'hsa-mir-483', 'hsa-mir-137', 'hsa-mir-146a', 'hsa-mir-223', 'hsa-mir-328', 'hsa-mir-143', 'hsa-mir-383', 'hsa-mir-92a-2', 'hsa-mir-497', 'hsa-mir-23a', 'hsa-mir-205', 'hsa-mir-29a', 'hsa-mir-142', 'hsa-mir-363', 'hsa-mir-135b', 'hsa-mir-628', 'hsa-mir-152', 'hsa-mir-494', 'hsa-mir-146b', 'hsa-mir-20a', 'hsa-mir-200b', 'hsa-mir-100', 'hsa-mir-196a-2', 'hsa-mir-542', 'hsa-mir-320a', 'hsa-mir-634', 'hsa-mir-15a', 'hsa-mir-485', 'hsa-mir-106b', 'hsa-mir-150', 'hsa-mir-9-1', 'hsa-mir-2861', 'hsa-mir-34b', 'hsa-mir-16-2']\n",
      "hsa-mir-21\n",
      "hsa-mir-1908\n",
      "hsa-mir-126\n",
      "hsa-mir-18a\n",
      "hsa-mir-147b\n",
      "hsa-mir-23b\n",
      "hsa-mir-155\n",
      "hsa-mir-132\n",
      "hsa-mir-335\n",
      "hsa-mir-148b\n",
      "hsa-mir-184\n",
      "hsa-mir-221\n",
      "hsa-mir-195\n",
      "hsa-mir-31\n",
      "hsa-mir-145\n",
      "hsa-mir-193a\n",
      "hsa-mir-483\n",
      "hsa-mir-137\n",
      "hsa-mir-146a\n",
      "hsa-mir-223\n",
      "hsa-mir-328\n",
      "hsa-mir-143\n",
      "hsa-mir-383\n",
      "hsa-mir-92a-2\n",
      "hsa-mir-497\n",
      "hsa-mir-23a\n",
      "hsa-mir-205\n",
      "hsa-mir-29a\n",
      "hsa-mir-142\n",
      "hsa-mir-363\n",
      "hsa-mir-135b\n",
      "hsa-mir-628\n",
      "hsa-mir-152\n",
      "hsa-mir-494\n",
      "hsa-mir-146b\n",
      "hsa-mir-20a\n",
      "hsa-mir-200b\n",
      "hsa-mir-100\n",
      "hsa-mir-196a-2\n",
      "hsa-mir-542\n",
      "hsa-mir-320a\n",
      "hsa-mir-634\n",
      "hsa-mir-15a\n",
      "hsa-mir-485\n",
      "hsa-mir-106b\n",
      "hsa-mir-150\n",
      "hsa-mir-9-1\n",
      "hsa-mir-2861\n",
      "hsa-mir-34b\n",
      "hsa-mir-16-2\n",
      "                                                                                                                                                                                                                                                                                                                            HMDD4                                                                                                                                                                                                                                                                                                                                                               HMDD3                                                                                                                                                                   miR2Disease    dbDEMC                                                                             miRCancer\n",
      "hsa-mir-21                                                                                  leukemia | leukemia, myeloid, acute | leukemia, prolymphocytic, t-cell | leukemia, acute | leukemia, lymphocytic, chronic, b-cell | precursor cell lymphoblastic leukemia-lymphoma | leukemia, myelogenous, chronic, bcr-abl positive                                                                                                   leukemia | leukemia, lymphocytic, chronic, b-cell | leukemia, myeloid | b-cell childhood acute lymphoblastic leukemia | leukemia, myeloid, chronic | leukemia, myeloid, acute | leukemia, lymphoblastic, acute | leukemia, myelogenous, chronic, bcr-abl positive                                                                        acute lymphoblastic leukemia (all) | acute myeloid leukemia (aml) | chronic lymphocytic leukemia (cll)  leukemia                           chronic lymphocytic leukemia | chronic myelogenous leukemia\n",
      "hsa-mir-1908                                                                                                                                                                                                                                                                                                                    ?                                                                                                                                                                                                                                                                                                                                                                   ?                                                                                                                                                                             ?         ?                                                                                     ?\n",
      "hsa-mir-126                                                                                                                                                            leukemia | leukemia, myeloid, acute | leukemia, promyelocytic, acute | leukemia, myeloid, chronic-phase | leukemia, myelogenous, chronic, bcr-abl positive                                                       leukemia | leukemia, myeloid, acute | leukemia, lymphoblastic | leukemia, b-cell | leukemia-lymphoma, precursor t-cell lymphoblastic | leukemia, myelogenous, chronic, bcr-abl positive | leukemia, promyelocytic, acute | leukemia, lymphoblastic, acute | leukemia-lymphoma, precursor b-cell lymphoblastic                                                                                                             acute promyelocytic leukemia (apl) | acute myeloid leukemia (aml)  leukemia                                                          chronic myelogenous leukemia\n",
      "hsa-mir-18a                                                                                                                                                                                                                                                           leukemia, myelogenous, chronic, bcr-abl positive | leukemia                                                                                                                                                 leukemia, lymphoblastic, acute | leukemia, b-cell | leukemia, myeloid | leukemia, myeloid, chronic | leukemia | leukemia, myeloid, acute | leukemia, lymphocytic, chronic, b-cell | leukemia-lymphoma, adult t-cell                                                                                                                                                                             ?  leukemia                                                          chronic myelogenous leukemia\n",
      "hsa-mir-147b                                                                                                                                                                                                                                                                                             leukemia, myeloid, acute                                                                                                                                                                                                                                                                                                                                                                   ?                                                                                                                                                                             ?         ?                                                                                     ?\n",
      "hsa-mir-23b                                                                                                                                                                                                                                             precursor cell lymphoblastic leukemia-lymphoma | leukemia, myeloid, acute                                                                                                                                                                                                                                                                                                   leukemia, lymphocytic, chronic, b-cell | leukemia, myeloid, acute                                                                        chronic lymphocytic leukemia (cll) | acute lymphoblastic leukemia (all) | acute myeloid leukemia (aml)  leukemia                                                                                     ?\n",
      "hsa-mir-155     leukemia | leukemia, lymphocytic, chronic, b-cell | leukemia, myeloid, acute | acute lymphoblastic leukemia, t-cell | acute lymphoblastic leukemia, b-cell | precursor b-cell lymphoblastic leukemia-lymphoma | precursor cell lymphoblastic leukemia-lymphoma | leukemia, myelogenous, chronic, bcr-abl positive                                     leukemia, lymphocytic, chronic, b-cell | leukemia, acute | leukemia, myeloid, chronic | leukemia, lymphoblastic, acute | leukemia, myeloid, acute | leukemia, b-cell | leukemia-lymphoma, adult t-cell | leukemia | leukemia, myelogenous, chronic, bcr-abl positive | monocytic leukemia | leukemia, myeloid, acute, pediatric                                                                        chronic lymphocytic leukemia (cll) | acute lymphoblastic leukemia (all) | acute myeloid leukemia (aml)  leukemia  acute myeloid leukemia | chronic lymphocytic leukemia | chronic myelogenous leukemia\n",
      "hsa-mir-132                                                                                                                                                                                                                                                                                              leukemia, myeloid, acute                                                                                                                                                                                                                                                                                                                              leukemia, lymphocytic, chronic, b-cell                                                                                                                                           b-cell chronic lymphocytic leukemia  leukemia                                                                                     ?\n",
      "hsa-mir-335                                                                                                                                                                                          leukemia, myeloid, acute | precursor t-cell lymphoblastic leukemia-lymphoma | precursor cell lymphoblastic leukemia-lymphoma                                                                                                                                                                                                                                                                                                                  leukemia, myeloid, acute | leukemia, lymphoblastic                                                                                                             acute lymphoblastic leukemia (all) | acute myeloid leukemia (aml)  leukemia                                                                                     ?\n",
      "hsa-mir-148b                                                                                                                                                                                         leukemia, myeloid, acute | precursor cell lymphoblastic leukemia-lymphoma | leukemia, myelogenous, chronic, bcr-abl positive                                                                                                                                                                                                                                                                                                                                          leukemia, myeloid, chronic                                                                                                                                                                             ?  leukemia                                                                                     ?\n",
      "hsa-mir-184                                                                                                                                                                                                                                                                                                                     ?                                                                                                                                                                                                                                                                                                                                                                   ?                                                                                                                                                  acute myeloid leukemia (aml)  leukemia                                                                                     ?\n",
      "hsa-mir-221                                                                             precursor cell lymphoblastic leukemia-lymphoma | leukemia, acute | leukemia, myeloid, acute | acute lymphoblastic leukemia, t-cell | leukemia, lymphocytic, chronic, b-cell | leukemia | leukemia, myelogenous, chronic, bcr-abl positive                                                leukemia, myeloid, chronic | leukemia, lymphocytic, chronic, b-cell | leukemia, myeloid, acute | leukemia, lymphoblastic, acute | leukemia-lymphoma, precursor t-cell lymphoblastic | leukemia | leukemia, lymphoblastic | leukemia, lymphoblastic, acute, b-cell | leukemia, myelogenous, chronic, bcr-abl positive                                   acute promyelocytic leukemia (apl) | chronic lymphocytic leukemia (cll) | acute lymphoblastic leukemia (all) | acute myeloid leukemia (aml)  leukemia                                                                                     ?\n",
      "hsa-mir-195                                                                                                              childhood acute myeloid leukemia | leukemia, myeloid, acute | leukemia, lymphocytic, chronic, b-cell | precursor cell lymphoblastic leukemia-lymphoma | precursor t-cell lymphoblastic leukemia-lymphoma                                                                                                                                                                                                                                                       leukemia, lymphoblastic, acute | leukemia, lymphocytic, chronic, b-cell | leukemia | leukemia, myeloid, acute                                                                                                             chronic lymphocytic leukemia (cll) | acute myeloid leukemia (aml)  leukemia                                                          chronic lymphocytic leukemia\n",
      "hsa-mir-31                                                                                                                                                                                                                                                                                                               leukemia                                                                                                                                                                                                                                                                                      leukemia, lymphocytic, chronic, b-cell | leukemia | leukemia, myeloid, chronic                                                                                                                                                                             ?  leukemia                                                          chronic myelogenous leukemia\n",
      "hsa-mir-145                                                                                                                  leukemia, myelogenous, chronic, bcr-abl positive | leukemia, lymphocytic, chronic, b-cell | precursor cell lymphoblastic leukemia-lymphoma | leukemia, myeloid, acute | leukemia | leukemia, myeloid                                                                                                                                                                                                                                                           leukemia | leukemia, myeloid, chronic | leukemia, myeloid, acute | leukemia, lymphoblastic, acute, t-cell                                                                                                                                            chronic lymphocytic leukemia (cll)  leukemia                                                                                     ?\n",
      "hsa-mir-193a                                                                                                                                                                                                                                  leukemia | leukemia, myeloid, acute | human t-cell leukemia virus type 1 infections                                                                                                                                                                                                                                                                                                                                            leukemia, myeloid, acute                                                                                                                                                                             ?  leukemia                                                                acute myeloid leukemia\n",
      "hsa-mir-483                                                                                                                                                                                                                                                                                            leukemia, monocytic, acute                                                                                                                                                                                                                                                                                                                                          leukemia, myeloid, chronic                                                                                                                                                                             ?  leukemia                                                                                     ?\n",
      "hsa-mir-137                                                                                                                                                                                                                                             leukemia, myeloid, acute | precursor cell lymphoblastic leukemia-lymphoma                                                                                                                                                                                                                                                                                                                                                                   ?                                                                                                                                                                             ?  leukemia                                                          acute lymphoblastic leukemia\n",
      "hsa-mir-146a                                                                                              leukemia, myelogenous, chronic, bcr-abl positive | leukemia | precursor cell lymphoblastic leukemia-lymphoma | leukemia, myeloid, acute | leukemia, lymphocytic, chronic, b-cell | acute lymphoblastic leukemia, t-cell                                                                                                                                     leukemia, lymphoblastic, acute | leukemia, lymphocytic, chronic, b-cell | leukemia, myeloid, acute | leukemia, promyelocytic, acute | leukemia-lymphoma, precursor t-cell lymphoblastic | leukemia | leukemia, myeloid, chronic                                                                                                                                            chronic lymphocytic leukemia (cll)  leukemia                                                          chronic myelogenous leukemia\n",
      "hsa-mir-223                                         leukemia, myelogenous, chronic, bcr-abl positive | precursor cell lymphoblastic leukemia-lymphoma | leukemia, prolymphocytic, t-cell | leukemia, lymphocytic, chronic, b-cell | leukemia, acute | precursor t-cell lymphoblastic leukemia-lymphoma | leukemia, myeloid, acute  leukemia, lymphocytic, chronic, b-cell | leukemia, lymphoblastic | leukemia, myeloid, acute | leukemia, acute | leukemia, lymphoblastic, acute, t-cell | leukemia | leukemia, lymphoblastic, acute | leukemia, promyelocytic, acute | leukemia-lymphoma, precursor t-cell lymphoblastic | leukemia-lymphoma, adult t-cell | leukemia, lymphoblastic, acute, b-cell  chronic lymphocytic leukemia (cll) | acute promyelocytic leukemia (apl) | chronic myeloid leukemia (cml) | acute lymphoblastic leukemia (all) | acute myeloid leukemia (aml)  leukemia  acute myeloid leukemia | chronic lymphocytic leukemia | chronic myelogenous leukemia\n",
      "hsa-mir-328                                                                                                                                                                                                                                                                                                                     ?                                                                                                                                                                                                                                                                                                               leukemia, myeloid, acute | leukemia, myeloid, chronic                                                                                                                                                  acute myeloid leukemia (aml)  leukemia                                                                acute myeloid leukemia\n",
      "hsa-mir-143                                                                                                                    leukemia | precursor t-cell lymphoblastic leukemia-lymphoma | leukemia, myeloid, acute | leukemia, myeloid | precursor cell lymphoblastic leukemia-lymphoma | leukemia, myeloid, accelerated phase                                                                                                                                                                                        leukemia, myeloid, acute | leukemia, lymphoblastic, acute, childhood | leukemia-lymphoma, precursor t-cell lymphoblastic | leukemia | leukemia, lymphocytic, chronic, b-cell                                                                                                                          t-cell leukemia | chronic lymphocytic leukemia (cll)  leukemia                                                                acute myeloid leukemia\n",
      "hsa-mir-383                                                                                                                                                                                                                                                                                                                     ?                                                                                                                                                                                                                                                                                                                                                                   ?                                                                                                                                                                             ?         ?                                                                                     ?\n",
      "hsa-mir-92a-2                                                                                                                                                                                                                                                                                                                   ?                                                                                                                                                                                                                                                                           leukemia, myeloid | leukemia | leukemia, myeloid, acute | leukemia-lymphoma, adult t-cell                                                                                                                                                                             ?         ?                                                                                     ?\n",
      "hsa-mir-497                                                                                                                                                                                                             precursor cell lymphoblastic leukemia-lymphoma | leukemia, myeloid, acute | leukemia, biphenotypic, acute                                                                                                                                                                                                                                                                                                                              leukemia, lymphocytic, chronic, b-cell                                                                                                                                                                             ?  leukemia                                                                                     ?\n",
      "hsa-mir-23a                                                                                                                                                                                                                                           leukemia, myelogenous, chronic, bcr-abl positive | leukemia, myeloid, acute                                                                                                                                                                                                                                                     leukemia | leukemia, myeloid, chronic | leukemia, myeloid, acute | acute erythroid leukemia | leukemia, myeloid                                                                        acute promyelocytic leukemia (apl) | acute lymphoblastic leukemia (all) | acute myeloid leukemia (aml)  leukemia                                                                                     ?\n",
      "hsa-mir-205                                                                                                                                                                                                                                                                        precursor cell lymphoblastic leukemia-lymphoma                                                                                                                                                                                                                                                                                                                                     leukemia-lymphoma, adult t-cell                                                                                                                                                                             ?  leukemia                                                          chronic myelogenous leukemia\n",
      "hsa-mir-29a                                                                                                                 leukemia, promyelocytic, acute | leukemia | precursor cell lymphoblastic leukemia-lymphoma | acute lymphoblastic leukemia, b-cell | leukemia, myeloid, acute | leukemia, lymphocytic, chronic, b-cell                                                                                                                                      leukemia, lymphocytic, chronic, b-cell | leukemia, myeloid, acute | leukemia, lymphoblastic | leukemia, lymphoblastic, acute | leukemia | leukemia, myeloid, chronic-phase | leukemia-lymphoma, precursor t-cell lymphoblastic                                                                                                                                                                             ?  leukemia                                           acute myeloid leukemia | monocytic leukemia\n",
      "hsa-mir-142                                                                                                                   leukemia, myeloid, acute | acute lymphocytic leukemia, b-cell | leukemia-lymphoma, adult t-cell | leukemia, myelogenous, chronic, bcr-abl positive | precursor cell lymphoblastic leukemia-lymphoma                                                                                                                         leukemia-lymphoma, precursor b-cell lymphoblastic | leukemia | leukemia, myeloid, acute | leukemia, b-cell | leukemia, myeloid, chronic | leukemia, lymphoblastic, acute | leukemia-lymphoma, adult t-cell | leukemia, promyelocytic, acute                                                                                                                                                                             ?  leukemia                                                                                     ?\n",
      "hsa-mir-363                                                                                                                                                                                                                 t-cell acute lymphoblastic leukemia | leukemia, myeloid, acute | acute lymphoblastic leukemia, t-cell                                                                                                                                                                                                                                                                                                                              leukemia, lymphocytic, chronic, b-cell                                                                                                                                                                             ?  leukemia                                                                                     ?\n",
      "hsa-mir-135b                                                                                                                                                                                                                                                                                                                    ?                                                                                                                                                                                                                                                                                                                                                                   ?                                                                                                                                                                             ?  leukemia                                                                                     ?\n",
      "hsa-mir-628                                                                                                                                                                                                                                                                                                                     ?                                                                                                                                                                                                                                                                                                                                            leukemia, myeloid, acute                                                                                                                                                                             ?  leukemia                                                                acute myeloid leukemia\n",
      "hsa-mir-152                                                                                                                                                                             leukemia | precursor cell lymphoblastic leukemia-lymphoma | leukemia, monocytic, acute | leukemia, myelogenous, chronic, bcr-abl positive                                                                                                                                                                                                                                                                                                                                                                   ?                                                                                                                                                                             ?  leukemia                                                                                     ?\n",
      "hsa-mir-494                                                                                                                                                                                                                                  t-cell acute lymphoblastic leukemia | precursor cell lymphoblastic leukemia-lymphoma                                                                                                                                                                                                                                                                                                                       childhood leukemia | leukemia, myeloid, acute                                                                                                                                                                             ?  leukemia                                                                acute myeloid leukemia\n",
      "hsa-mir-146b                                                                                                                                                                                     leukemia, lymphocytic, chronic, b-cell | precursor t-cell lymphoblastic leukemia-lymphoma | leukemia, large granular lymphocytic                                                                                                                                                                                                                                leukemia, lymphocytic, chronic, b-cell | leukemia, myeloid, acute | leukemia, lymphoblastic, acute, t-cell | leukemia, lymphoblastic                                                                                                                                                                             ?  leukemia                                                                                     ?\n",
      "hsa-mir-20a                                                                                 leukemia, myeloid, acute | leukemia, lymphocytic, chronic, b-cell | leukemia, promyelocytic, acute | precursor t-cell lymphoblastic leukemia-lymphoma | leukemia | leukemia, myelogenous, chronic, bcr-abl positive | leukemia, acute                                                           leukemia, lymphocytic, chronic, b-cell | leukemia, myeloid, chronic | leukemia, lymphoblastic, acute, t-cell | leukemia, b-cell | leukemia, lymphoblastic, acute | leukemia, myeloid | leukemia, myeloid, acute | leukemia | leukemia, lymphoblastic | leukemia, t-cell | leukemia-lymphoma, adult t-cell                                                                                                                                                chronic myeloid leukemia (cml)  leukemia                                 acute myeloid leukemia | chronic myelogenous leukemia\n",
      "hsa-mir-200b                                                                                                                                                                                                                                                                     leukemia, myelogenous, chronic, bcr-abl positive                                                                                                                                                                                                                                                                                                                                                                   ?                                                                                                                                                                             ?  leukemia                                                                                     ?\n",
      "hsa-mir-100                                                                                                                                                                                                                           leukemia, acute | precursor cell lymphoblastic leukemia-lymphoma | leukemia, myeloid, acute                                                                                                                                                                                                                                                       leukemia-lymphoma, precursor t-cell lymphoblastic | leukemia, myeloid, acute | leukemia, lymphoblastic, acute                                                                                                                                                                             ?  leukemia                                                                                     ?\n",
      "hsa-mir-196a-2                                                                                                                                                                                                                                                          precursor cell lymphoblastic leukemia-lymphoma | leukemia                                                                                                                                                                                                                                                                  leukemia, myeloid, acute | leukemia, lymphocytic, chronic, b-cell | leukemia, lymphoblastic, acute                                                                                                                                           b-cell chronic lymphocytic leukemia         ?                                                                                     ?\n",
      "hsa-mir-542                                                                                                                                                                                                                                                                                                                     ?                                                                                                                                                                                                                                                                                                                                            leukemia, myeloid, acute                                                                                                                                                                             ?  leukemia                                                                                     ?\n",
      "hsa-mir-320a                                                                                                                                                                                                                                                                                                                    ?                                                                                                                                                                                                                                                                                                                     childhood leukemia | leukemia, myeloid, chronic                                                                                                                                                                             ?  leukemia                                                                                     ?\n",
      "hsa-mir-634                                                                                                                                                                                                                                                                                                                     ?                                                                                                                                                                                                                                                                                                                                                                   ?                                                                                                                                                                             ?  leukemia                                                                                     ?\n",
      "hsa-mir-15a                                                                                                                                                                                                  leukemia, lymphocytic, chronic, b-cell | leukemia, myeloid, acute | leukemia, myelogenous, chronic, bcr-abl positive                                                                                                                             leukemia, lymphocytic, chronic, b-cell | leukemia | leukemia, promyelocytic, acute | leukemia, lymphoblastic, acute | leukemia, myeloid, acute | leukemia, b-cell | leukemia, myeloid, chronic | leukemia, lymphoblastic, acute, b-cell                                                                                                       chronic lymphocytic leukemia (cll) | acute promyelocytic leukemia (apl)  leukemia                                                          chronic lymphocytic leukemia\n",
      "hsa-mir-485                                                                                                                                                                                                                                                                                              leukemia, myeloid, acute                                                                                                                                                                                                                                                                                                                                                            leukemia                                                                                                                                                                             ?         ?                                                                                     ?\n",
      "hsa-mir-106b                                                                                                                                                                                                                                                 leukemia, myeloid | leukemia, myelogenous, chronic, bcr-abl positive                                                                                                                                                                                                                                                                                                                              leukemia, lymphocytic, chronic, b-cell                                                                                                                                            chronic lymphocytic leukemia (cll)  leukemia                                                                                     ?\n",
      "hsa-mir-150                                                                                                  leukemia, myelogenous, chronic, bcr-abl positive | leukemia | leukemia, lymphocytic, chronic, b-cell | precursor cell lymphoblastic leukemia-lymphoma | leukemia, myelomonocytic, chronic | leukemia, myeloid, acute                                                                                                                                                  leukemia, lymphocytic, chronic, b-cell | leukemia, myeloid, chronic | leukemia, myeloid, acute | leukemia | leukemia, lymphoblastic, acute | leukemia, acute | leukemia-lymphoma, adult t-cell | leukemia, myeloid                                                                                                                                            chronic lymphocytic leukemia (cll)  leukemia   adult t-cell leukemia | chronic lymphocytic leukemia | chronic myelogenous leukemia\n",
      "hsa-mir-9-1                                                                                                                                                                                                                                                                                                                     ?                                                                                                                                                                                                                                                                                                                                                            leukemia                                                                                                                                                                             ?         ?                                                                                     ?\n",
      "hsa-mir-2861                                                                                                                                                                                                                                                                                                                    ?                                                                                                                                                                                                                                                                                                                                                                   ?                                                                                                                                                                             ?         ?                                                                                     ?\n",
      "hsa-mir-34b                                                                                                                                                                                                                                                                                              leukemia, myeloid, acute                                                                                                                                                                     leukemia, myeloid, acute, pediatric | leukemia, lymphocytic, chronic, b-cell | leukemia, promyelocytic, acute | leukemia | leukemia, lymphoblastic, acute, childhood | leukemia, myeloid, acute                                                                                                                                                  acute myeloid leukemia (aml)  leukemia                                                          chronic lymphocytic leukemia\n",
      "hsa-mir-16-2                                                                                                                                                                                                                                                                               leukemia, lymphocytic, chronic, b-cell                                                                                                                                                                                                                                                                                 leukemia-lymphoma, adult t-cell | leukemia, lymphocytic, chronic, b-cell | leukemia                                                                                                                                            chronic lymphocytic leukemia (cll)         ?                                                          chronic lymphocytic leukemia\n"
     ]
    }
   ],
   "source": [
    "import pandas as pd\n",
    "\n",
    "def check_mirna_across_dataframes(mir_list, df1, df2, df3, df4, df5, disease_prefix='breast'):\n",
    "    result_df = pd.DataFrame(index=mir_list, columns=['DF1', 'DF2', 'DF3', 'DF4', 'DF5'])\n",
    "\n",
    "    dataframes = [df1, df2, df3, df4, df5]\n",
    "    \n",
    "    # Check each miRNA in each DataFrame\n",
    "    for mir in mir_list:\n",
    "        print(mir)\n",
    "        for i, df in enumerate(dataframes, 1):\n",
    "            if not df[(df['miRNA'] == mir) & (df['Disease'].str.contains(disease_prefix))].empty:\n",
    "                # Get the matching disease(s)\n",
    "                matching_diseases = df[(df['miRNA'] == mir) & (df['Disease'].str.contains(disease_prefix))]['Disease'].unique()\n",
    "                \n",
    "                # Join multiple diseases with a separator if there's more than one match\n",
    "                disease_str = ' | '.join(matching_diseases)\n",
    "                \n",
    "                # Assign the disease string to the result DataFrame\n",
    "                result_df.loc[mir, f'DF{i}'] = disease_str\n",
    "            else:\n",
    "                result_df.loc[mir, f'DF{i}'] = '?'\n",
    "    \n",
    "    # Print the result\n",
    "    new_column_names = {\n",
    "        'DF1': 'HMDD4',\n",
    "        'DF2': 'HMDD3',\n",
    "        'DF3': 'miR2Disease',\n",
    "        'DF4': 'dbDEMC',\n",
    "        'DF5': 'miRCancer'\n",
    "        }\n",
    "    result_df = result_df.rename(columns=new_column_names)\n",
    "    return result_df\n",
    "\n",
    "filename = f'leukemia_top_50_predictions'\n",
    "key = 'leukemia'\n",
    "\n",
    "\n",
    "case_df = pd.read_csv(f'{path}/cases/pred/{filename}.csv')\n",
    "mir_list = case_df['miRNA'].dropna().tolist()\n",
    "print(mir_list)\n",
    "result = check_mirna_across_dataframes(mir_list, df_hmdd4, df_hmdd3, df_mir2dis, df_db, df_mircan, disease_prefix=key)\n",
    "result.to_csv(f'{path}/cases/true/{key}_other2.csv')\n",
    "print(result.to_string())\n",
    "\n",
    "# for disease in case_df.columns:\n",
    "#     print(f\"\\nProcessing disease: {disease}\")\n",
    "    \n",
    "#     mir_list = case_df[disease].dropna().tolist()\n",
    "    \n",
    "#     result = check_mirna_across_dataframes(mir_list, df_hmdd4, df_hmdd3, df_mir2dis, df_db, df_mircan, disease_prefix=disease.split()[0])\n",
    "#     result.to_csv(f'{path}cases/{disease}.csv')\n",
    "#     # Print the result\n",
    "#     print(result.to_string())"
   ]
  },
  {
   "cell_type": "markdown",
   "metadata": {},
   "source": [
    "### miRBASE"
   ]
  },
  {
   "cell_type": "code",
   "execution_count": 55,
   "metadata": {},
   "outputs": [
    {
     "name": "stdout",
     "output_type": "stream",
     "text": [
      "          ID       miRNA                                           Sequence\n",
      "0  MI0000001   cel-let-7  UACACUGUGGAUCCGGUGAGGUAGUAGGUUGUAUAGUUUGGAAUAU...\n",
      "1  MI0000002   cel-lin-4  AUGCUUCCGGCCUGUUCCCUGAGACCUCAAGUGUGAGUGUACUAUU...\n",
      "2  MI0000003   cel-mir-1  AAAGUGACCGUACCGAGCUGCAUACUUCCUUACAUGCCCAUACUAU...\n",
      "3  MI0000004   cel-mir-2  UAAACAGUAUACAGAAAGCCAUCAAAGCGGUGGUUGAUGUGUUGCA...\n",
      "4  MI0000005  cel-mir-34  CGGACAAUGCUCGAGAGGCAGUGUGGUUAGCUGGUUGCAUAUUUCC...\n",
      "38589\n"
     ]
    }
   ],
   "source": [
    "\n",
    "# Initialize lists to store data\n",
    "mirna_names = []\n",
    "mirna_ids = []\n",
    "mirna_sequences = []\n",
    "\n",
    "# Replace 'your_file.dat' with the path to your downloaded .dat file\n",
    "with open(f'{path}/miRBase/miRNA.dat', 'r') as handle:\n",
    "    for record in SeqIO.parse(handle, 'embl'):\n",
    "            mirna_ids.append(record.id)\n",
    "            mirna_names.append(record.name)\n",
    "            mirna_sequences.append(str(record.seq))\n",
    "\n",
    "# Create a pandas DataFrame\n",
    "df = pd.DataFrame({\n",
    "    'ID': mirna_ids,\n",
    "    'miRNA': mirna_names,\n",
    "    'Sequence': mirna_sequences\n",
    "})\n",
    "\n",
    "# Display the first few rows of the DataFrame\n",
    "print(df.head())\n",
    "print(len(df))\n",
    "# Optionally, save the DataFrame to a CSV file\n",
    "df.to_csv('miRBase.csv', index=False)\n"
   ]
  },
  {
   "cell_type": "code",
   "execution_count": 56,
   "metadata": {},
   "outputs": [
    {
     "name": "stdout",
     "output_type": "stream",
     "text": [
      "             miRNA\n",
      "0    hsa-let-7a-5p\n",
      "1    hsa-let-7a-3p\n",
      "2  hsa-let-7a-2-3p\n",
      "3    hsa-let-7b-5p\n",
      "4    hsa-let-7b-3p\n",
      "2656\n"
     ]
    }
   ],
   "source": [
    "mature = []\n",
    "with open(f'{path}/miRBase/mature.fa', 'r') as handle:\n",
    "    for record in SeqIO.parse(handle, 'fasta'):\n",
    "        if record.id.startswith('hsa'):\n",
    "            mature.append(record.id)\n",
    "    \n",
    "df = pd.DataFrame({'miRNA': mature})\n",
    "print(df.head())\n",
    "print(len(df))"
   ]
  },
  {
   "cell_type": "markdown",
   "metadata": {},
   "source": [
    "### MISIM"
   ]
  },
  {
   "cell_type": "code",
   "execution_count": 57,
   "metadata": {},
   "outputs": [
    {
     "name": "stdout",
     "output_type": "stream",
     "text": [
      "          miRNA\n",
      "0    hsa-mir-93\n",
      "1     hsa-let-7\n",
      "2    hsa-let-7a\n",
      "3  hsa-let-7a-1\n",
      "4  hsa-let-7a-2\n",
      "        1.0  0.00836525358685  0.0125233401372  0.0133543439123  \\\n",
      "0  0.008365          1.000000         0.476067         0.435902   \n",
      "1  0.012523          0.476067         1.000000         0.651843   \n",
      "2  0.013354          0.435902         0.651843         1.000000   \n",
      "3  0.013472          0.418217         0.639863         0.989002   \n",
      "4  0.013479          0.417713         0.631654         0.980446   \n",
      "\n",
      "   0.0134721277588  0.0134785269796  0.0167795070699  0.011490927577  \\\n",
      "0         0.418217         0.417713         0.461889        0.486344   \n",
      "1         0.639863         0.631654         0.612102        0.580480   \n",
      "2         0.989002         0.980446         0.686102        0.731127   \n",
      "3         1.000000         0.991349         0.674790        0.719203   \n",
      "4         0.991349         1.000000         0.667432        0.721142   \n",
      "\n",
      "   0.013638931576  0.0124013523877  ...  0.000601931287893  0.00554340164134  \\\n",
      "0        0.402244         0.395580  ...           0.308686          0.359375   \n",
      "1        0.562034         0.557841  ...           0.156792          0.359253   \n",
      "2        0.692131         0.689534  ...           0.166887          0.414036   \n",
      "3        0.678361         0.697210  ...           0.168549          0.378951   \n",
      "4        0.681029         0.688766  ...           0.168108          0.378083   \n",
      "\n",
      "   0.000962402365105.1  0.000190081453511.7  0.00726643239262  \\\n",
      "0             0.024097             0.129377          0.561435   \n",
      "1             0.142073             0.116954          0.515135   \n",
      "2             0.036406             0.144041          0.484077   \n",
      "3             0.036696             0.145900          0.465861   \n",
      "4             0.036617             0.145509          0.464798   \n",
      "\n",
      "   0.00471388269789  0.00487160033836  0.00728859834478  0.00516829512869  \\\n",
      "0          0.403909          0.181528          0.613278          0.439242   \n",
      "1          0.479775          0.098943          0.533238          0.419226   \n",
      "2          0.554465          0.110426          0.551577          0.402100   \n",
      "3          0.533526          0.111034          0.534109          0.377855   \n",
      "4          0.523302          0.068620          0.531611          0.375617   \n",
      "\n",
      "   0.00534877032458.1  \n",
      "0            0.013528  \n",
      "1            0.010196  \n",
      "2            0.001993  \n",
      "3            0.002019  \n",
      "4            0.002014  \n",
      "\n",
      "[5 rows x 1044 columns]\n"
     ]
    }
   ],
   "source": [
    "df = pd.read_csv(f'/Users/macbook/Downloads/similarity/miRNA_name.txt', sep='\\t', usecols=[0], names=['miRNA'])\n",
    "print(df.head())\n",
    "df.to_csv('MISIM_miRNA.csv', index=False)\n",
    "\n",
    "df = pd.read_csv('/Users/macbook/Downloads/similarity/similarity.txt', sep='\\t')\n",
    "print(df.head())\n",
    "df.to_csv('MISIM_sim.csv', index=False)"
   ]
  }
 ],
 "metadata": {
  "kernelspec": {
   "display_name": "Python 3",
   "language": "python",
   "name": "python3"
  },
  "language_info": {
   "codemirror_mode": {
    "name": "ipython",
    "version": 3
   },
   "file_extension": ".py",
   "mimetype": "text/x-python",
   "name": "python",
   "nbconvert_exporter": "python",
   "pygments_lexer": "ipython3",
   "version": "3.11.6"
  }
 },
 "nbformat": 4,
 "nbformat_minor": 2
}
